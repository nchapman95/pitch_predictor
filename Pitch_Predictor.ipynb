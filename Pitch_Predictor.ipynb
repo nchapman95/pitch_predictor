{
 "cells": [
  {
   "cell_type": "code",
   "execution_count": 1,
   "metadata": {},
   "outputs": [],
   "source": [
    "%matplotlib inline\n",
    "import matplotlib.pyplot as plt\n",
    "import numpy as np\n",
    "import keras\n",
    "import tensorflow as tf\n",
    "import pandas as pd\n",
    "import datetime\n",
    "import keras.backend as K\n",
    "K.clear_session()\n",
    "from keras.models import Sequential\n",
    "from keras.layers import Dense, Activation, Dropout\n",
    "from sklearn.metrics import accuracy_score\n",
    "from sklearn.ensemble import RandomForestClassifier\n",
    "from sklearn.metrics import multilabel_confusion_matrix\n",
    "from sklearn.metrics import classification_report\n",
    "import numpy as np"
   ]
  },
  {
   "cell_type": "code",
   "execution_count": 2,
   "metadata": {},
   "outputs": [],
   "source": [
    "import pybaseball\n",
    "\n",
    "pd.set_option('display.max_rows', 1600)\n",
    "pd.set_option('display.max_columns',1500)\n",
    "pd.set_option('display.width', 1500)"
   ]
  },
  {
   "cell_type": "markdown",
   "metadata": {},
   "source": [
    "First let's import keras and some other libraries"
   ]
  },
  {
   "cell_type": "code",
   "execution_count": 3,
   "metadata": {},
   "outputs": [],
   "source": [
    "pitchers_seasons = pybaseball.pitching_stats(2017,2019)"
   ]
  },
  {
   "cell_type": "code",
   "execution_count": 5,
   "metadata": {},
   "outputs": [
    {
     "name": "stderr",
     "output_type": "stream",
     "text": [
      "/Users/nchapman/opt/anaconda3/lib/python3.7/site-packages/IPython/core/interactiveshell.py:3058: DtypeWarning: Columns (44) have mixed types.Specify dtype option on import or set low_memory=False.\n",
      "  interactivity=interactivity, compiler=compiler, result=result)\n"
     ]
    }
   ],
   "source": [
    "#pitchers = pybaseball.statcast(start_dt=\"2018-04-01\",end_dt=\"2020-08-31\")\n",
    "pitchers = pd.read_csv(\"full_pitching_data_2019_2020.csv\")"
   ]
  },
  {
   "cell_type": "code",
   "execution_count": 6,
   "metadata": {},
   "outputs": [],
   "source": [
    "pitchers.dropna(subset=[\"pitch_type\"],inplace=True)"
   ]
  },
  {
   "cell_type": "code",
   "execution_count": 7,
   "metadata": {},
   "outputs": [],
   "source": [
    "#pitchers.to_csv(\"full_pitching_data_2019_2020.csv\",index=False)"
   ]
  },
  {
   "cell_type": "code",
   "execution_count": 8,
   "metadata": {},
   "outputs": [],
   "source": [
    "pitchers.sort_values([\"pitcher\",\"game_date\",\"at_bat_number\",\"pitch_number\"],inplace=True)"
   ]
  },
  {
   "cell_type": "code",
   "execution_count": 10,
   "metadata": {},
   "outputs": [],
   "source": [
    "## Previous Pitch for Current Pitcher for this At Bat\n",
    "pitchers[\"prev_pitch\"] = pitchers.groupby([\"pitcher\",\"game_date\",\"inning\",\"at_bat_number\"])[\"pitch_type\"].shift(+1).fillna(\"FP\")\n",
    "## Previous result for this At Bat\n",
    "pitchers[\"prev_result\"] = pitchers.groupby([\"pitcher\",\"game_date\",\"inning\",\"at_bat_number\"])[\"description\"].shift(+1).fillna(\"FP\")\n",
    "## Previous Pitch type for this At Bat\n",
    "pitchers[\"prev_type\"] = pitchers.groupby([\"pitcher\",\"game_date\",\"inning\",\"at_bat_number\"])[\"type\"].shift(+1).fillna(\"FP\")\n",
    "## Previous Pitch Speed for this At Bat\n",
    "pitchers[\"prev_release_speed\"] = pitchers.groupby([\"pitcher\",\"game_date\",\"inning\",\"at_bat_number\"])[\"release_speed\"].shift(+1).fillna(0)\n",
    "## Previous zone for this at bat\n",
    "pitchers[\"prev_zone\"] = pitchers.groupby([\"pitcher\",\"game_date\",\"inning\",\"at_bat_number\"])[\"zone\"].shift(+1).fillna(\"FP\")\n",
    "\n",
    "\n",
    "## Previous Pitch for Current Pitcher for this At Bat\n",
    "pitchers[\"prev_pitch2\"] = pitchers.groupby([\"pitcher\",\"game_date\",\"inning\",\"at_bat_number\"])[\"pitch_type\"].shift(+2).fillna(\"FP\")\n",
    "## Previous result for this At Bat\n",
    "pitchers[\"prev_result2\"] = pitchers.groupby([\"pitcher\",\"game_date\",\"inning\",\"at_bat_number\"])[\"description\"].shift(+2).fillna(\"FP\")\n",
    "## Previous Pitch type for this At Bat\n",
    "pitchers[\"prev_type2\"] = pitchers.groupby([\"pitcher\",\"game_date\",\"inning\",\"at_bat_number\"])[\"type\"].shift(+2).fillna(\"FP\")\n",
    "## Previous Pitch Speed for this At Bat\n",
    "pitchers[\"prev_release_speed2\"] = pitchers.groupby([\"pitcher\",\"game_date\",\"inning\",\"at_bat_number\"])[\"release_speed\"].shift(+2).fillna(0)\n",
    "## Previous zone for this at bat\n",
    "pitchers[\"prev_zone2\"] = pitchers.groupby([\"pitcher\",\"game_date\",\"inning\",\"at_bat_number\"])[\"zone\"].shift(+2).fillna(\"FP\")"
   ]
  },
  {
   "cell_type": "code",
   "execution_count": 11,
   "metadata": {},
   "outputs": [
    {
     "data": {
      "text/plain": [
       "(1603967, 100)"
      ]
     },
     "execution_count": 11,
     "metadata": {},
     "output_type": "execute_result"
    }
   ],
   "source": [
    "pitchers.shape"
   ]
  },
  {
   "cell_type": "code",
   "execution_count": 12,
   "metadata": {},
   "outputs": [
    {
     "name": "stderr",
     "output_type": "stream",
     "text": [
      "/Users/nchapman/opt/anaconda3/lib/python3.7/site-packages/ipykernel_launcher.py:5: SettingWithCopyWarning: \n",
      "A value is trying to be set on a copy of a slice from a DataFrame.\n",
      "Try using .loc[row_indexer,col_indexer] = value instead\n",
      "\n",
      "See the caveats in the documentation: https://pandas.pydata.org/pandas-docs/stable/user_guide/indexing.html#returning-a-view-versus-a-copy\n",
      "  \"\"\"\n"
     ]
    }
   ],
   "source": [
    "at_bats = pitchers.dropna(subset=[\"events\"])\n",
    "last_ab_results = (pitchers.dropna(subset=[\"events\"])\n",
    "                    .groupby([\"pitcher\",\"game_date\",\"inning\"])[\"events\"].shift(+1).fillna(\"FP\"))\n",
    "\n",
    "at_bats['last_at_bat'] = last_ab_results\n",
    "\n",
    "at_bats = at_bats[[\"pitcher\",\"game_date\",\"inning\",\"at_bat_number\",\"last_at_bat\"]]\n"
   ]
  },
  {
   "cell_type": "code",
   "execution_count": 13,
   "metadata": {},
   "outputs": [],
   "source": [
    "pitchers = pitchers.merge(at_bats, on=[\"pitcher\",\"game_date\",\"inning\",\"at_bat_number\"],how=\"left\")"
   ]
  },
  {
   "cell_type": "code",
   "execution_count": 14,
   "metadata": {},
   "outputs": [],
   "source": [
    "pitchers = pd.concat([pitchers, pd.get_dummies(pitchers['pitch_type'],prefix=\"pitch_type\")],axis=1)"
   ]
  },
  {
   "cell_type": "code",
   "execution_count": 15,
   "metadata": {},
   "outputs": [],
   "source": [
    "pitchers['run_on_first'] = [1 if x == x else 0 for x in pitchers['on_1b']]\n",
    "pitchers['run_on_second'] = [1 if x == x else 0 for x in pitchers['on_2b']]\n",
    "pitchers['run_on_third'] = [1 if x == x else 0 for x in pitchers['on_3b']]"
   ]
  },
  {
   "cell_type": "code",
   "execution_count": 16,
   "metadata": {},
   "outputs": [
    {
     "data": {
      "text/plain": [
       "0    1115241\n",
       "1     488808\n",
       "Name: run_on_first, dtype: int64"
      ]
     },
     "execution_count": 16,
     "metadata": {},
     "output_type": "execute_result"
    }
   ],
   "source": [
    "pitchers['run_on_first'].value_counts(dropna=False)"
   ]
  },
  {
   "cell_type": "code",
   "execution_count": 17,
   "metadata": {},
   "outputs": [],
   "source": [
    "pitchers['at_home'] = [0 if x == 'Top' else 1 for x in pitchers['inning_topbot']]"
   ]
  },
  {
   "cell_type": "code",
   "execution_count": 18,
   "metadata": {},
   "outputs": [],
   "source": [
    "pitchers['run_diff'] = [x - y if z == 1 else y - x \n",
    "                        for x,y,z\n",
    "                        in pitchers[['home_score','away_score','at_home']].itertuples(index=False)]"
   ]
  },
  {
   "cell_type": "markdown",
   "metadata": {},
   "source": [
    "## Add in Previous Season Data"
   ]
  },
  {
   "cell_type": "code",
   "execution_count": 21,
   "metadata": {},
   "outputs": [],
   "source": [
    "pitchers_seasons = pitchers_seasons[pitchers_seasons['IP'] > 17]\n"
   ]
  },
  {
   "cell_type": "code",
   "execution_count": 22,
   "metadata": {},
   "outputs": [],
   "source": [
    "pitchers_reduced = pitchers_seasons[[\"Name\",\"Season\",'FB%','FBv','SL%','SLv','CT%','CTv',\n",
    " 'CB%','CBv','CH%','CHv','SF%','SFv','KN%','KNv',\n",
    " 'XX%','PO%']]"
   ]
  },
  {
   "cell_type": "code",
   "execution_count": 23,
   "metadata": {},
   "outputs": [],
   "source": [
    "pitchers['previous_season'] = (pitchers['game_year'].astype(float) - 1).astype(str).astype(float)"
   ]
  },
  {
   "cell_type": "code",
   "execution_count": 25,
   "metadata": {},
   "outputs": [
    {
     "data": {
      "text/plain": [
       "2018.0    737842\n",
       "2017.0    716198\n",
       "2019.0    150009\n",
       "Name: previous_season, dtype: int64"
      ]
     },
     "execution_count": 25,
     "metadata": {},
     "output_type": "execute_result"
    }
   ],
   "source": [
    "pitchers['previous_season'].value_counts()"
   ]
  },
  {
   "cell_type": "code",
   "execution_count": 26,
   "metadata": {},
   "outputs": [],
   "source": [
    "pitchers = pitchers.merge(pitchers_reduced,left_on=[\"previous_season\",\"player_name\"],right_on=[\"Season\",\"Name\"],how=\"inner\")"
   ]
  },
  {
   "cell_type": "code",
   "execution_count": 27,
   "metadata": {},
   "outputs": [],
   "source": [
    "training_columns = [\"pitch_type\",\"release_speed\",\"stand\",\"p_throws\",\"outs_when_up\",\"inning\",\"pitch_name\",\n",
    "                   \"home_score\",\"away_score\",\"balls\",\"strikes\",\"type\",\"prev_pitch\",\"prev_result\",'prev_type',\n",
    "                   \"prev_release_speed\",\"run_on_first\",\"run_on_second\",\"run_on_third\",\"at_home\",\"prev_zone\",\n",
    "                    \"prev_zone2\",\"prev_release_speed2\",\"prev_result2\",\"prev_type2\",\"prev_pitch2\",\"last_at_bat\",\n",
    "                    \"Name\",\n",
    "                   'FB%', 'FBv', 'SL%', 'SLv', 'CT%', 'CTv', 'CB%',\n",
    "                    'CBv', 'CH%', 'CHv', 'XX%']"
   ]
  },
  {
   "cell_type": "code",
   "execution_count": 28,
   "metadata": {},
   "outputs": [],
   "source": [
    "pitchers[['FB%', 'FBv', 'SL%', 'SLv', 'CT%', 'CTv', 'CB%',\n",
    "                    'CBv', 'CH%', 'CHv', 'XX%']] = pitchers[['FB%', 'FBv', 'SL%', 'SLv', 'CT%', 'CTv', 'CB%',\n",
    "                    'CBv', 'CH%', 'CHv', 'XX%']].fillna(0)"
   ]
  },
  {
   "cell_type": "code",
   "execution_count": 29,
   "metadata": {},
   "outputs": [],
   "source": [
    "# aaron_nola = pitchers[pitchers['player_name'] == 'Clayton Kershaw']\n",
    "aaron_nola = pitchers"
   ]
  },
  {
   "cell_type": "markdown",
   "metadata": {},
   "source": [
    "Break\n",
    "12–6 curveball.\n",
    "Curveball.\n",
    "Knuckle curve.\n",
    "Screwball.\n",
    "Slider.\n",
    "Slurve."
   ]
  },
  {
   "cell_type": "markdown",
   "metadata": {},
   "source": [
    "AB Automatic Ball\n",
    "AS Automatic Strike\n",
    "CH Change-​up\n",
    "CU Curveball\n",
    "EP Eephus\n",
    "FC Cutter\n",
    "FF Four-Seam Fastball\n",
    "FO Forkball\n",
    "FS Splitter\n",
    "FT Two-Seam Fastball (synonymous with SI)\n",
    "GY Gyroball\n",
    "IN Intentional Ball\n",
    "KC Knuckle Curve\n",
    "KN Knuckleball\n",
    "NP No Pitch\n",
    "PO Pitchout\n",
    "SC Screwball\n",
    "SI Sinker (synonymous with FT)\n",
    "SL Slider\n",
    "UN Unknown"
   ]
  },
  {
   "cell_type": "markdown",
   "metadata": {},
   "source": [
    "Fastballs: Four-seam, Two-seam, Cutter, Splitter, and Forkball.\n",
    "Breaking Balls: Curveball, Slider, Slurve, and Screwball.\n",
    "Changeups: Changeup, Palmball, Circle Changeup."
   ]
  },
  {
   "cell_type": "code",
   "execution_count": 30,
   "metadata": {},
   "outputs": [],
   "source": [
    "pitch_dict = {\"CH\":\"change\",\n",
    "             \"FF\":\"fast\",\n",
    "             \"KC\":\"break\",\n",
    "             \"SI\":\"fast\",\n",
    "             \"CU\":\"break\",\n",
    "             \"SL\":\"break\",\n",
    "             \"FS\":\"fast\",\n",
    "             \"FT\":\"fast\",\n",
    "             \"FC\":\"fast\",\n",
    "             \"KN\":\"break\",\n",
    "             \"CS\":\"fast\",\n",
    "             \"EP\":\"change\",\n",
    "             \"FO\":\"fast\",\n",
    "             \"SC\":\"break\"}\n"
   ]
  },
  {
   "cell_type": "code",
   "execution_count": 31,
   "metadata": {},
   "outputs": [],
   "source": [
    "aaron_nola['pitch_type'] = aaron_nola['pitch_type'].replace(pitch_dict)\n",
    "aaron_nola['prev_pitch'] = aaron_nola['prev_pitch'].replace(pitch_dict)\n",
    "aaron_nola['prev_pitch2'] = aaron_nola['prev_pitch2'].replace(pitch_dict)\n"
   ]
  },
  {
   "cell_type": "code",
   "execution_count": 32,
   "metadata": {},
   "outputs": [],
   "source": [
    "training_columns = [\"pitch_type\",\"release_speed\",\"stand\",\"p_throws\",\"outs_when_up\",\"inning\",\"pitch_name\",\n",
    "                   \"home_score\",\"away_score\",\"balls\",\"strikes\",\"type\",\"prev_pitch\",\"prev_result\",'prev_type',\n",
    "                   \"prev_release_speed\",\"run_on_first\",\"run_on_second\",\"run_on_third\",\"at_home\",\"prev_zone\",\n",
    "                    \"prev_zone2\",\"prev_release_speed2\",\"prev_result2\",\"prev_type2\",\"prev_pitch2\",\"last_at_bat\",\n",
    "                   'FB%', 'FBv', 'SL%', 'SLv', 'CT%', 'CTv', 'CB%',\n",
    "                    'CBv', 'CH%', 'CHv', 'XX%']"
   ]
  },
  {
   "cell_type": "code",
   "execution_count": 33,
   "metadata": {},
   "outputs": [],
   "source": [
    "df = aaron_nola[training_columns].copy()"
   ]
  },
  {
   "cell_type": "code",
   "execution_count": 34,
   "metadata": {},
   "outputs": [],
   "source": [
    "df = df[df['pitch_type'] != 'PO']"
   ]
  },
  {
   "cell_type": "code",
   "execution_count": 35,
   "metadata": {},
   "outputs": [
    {
     "data": {
      "text/plain": [
       "fast      753579\n",
       "break     344559\n",
       "change    136827\n",
       "Name: pitch_type, dtype: int64"
      ]
     },
     "execution_count": 35,
     "metadata": {},
     "output_type": "execute_result"
    }
   ],
   "source": [
    "df['pitch_type'].value_counts()"
   ]
  },
  {
   "cell_type": "code",
   "execution_count": 36,
   "metadata": {},
   "outputs": [],
   "source": [
    "aaron_nola = 0\n",
    "pitchers = 0"
   ]
  },
  {
   "cell_type": "markdown",
   "metadata": {},
   "source": [
    "## Some Preliminary Analysis"
   ]
  },
  {
   "cell_type": "code",
   "execution_count": 37,
   "metadata": {},
   "outputs": [
    {
     "data": {
      "text/plain": [
       "fast      0.632906\n",
       "break     0.255378\n",
       "change    0.111717\n",
       "Name: pitch_type, dtype: float64"
      ]
     },
     "execution_count": 37,
     "metadata": {},
     "output_type": "execute_result"
    }
   ],
   "source": [
    "df[df['prev_pitch'] == 'fast'][\"pitch_type\"].value_counts() / len(df[df['prev_pitch'] == 'fast'])"
   ]
  },
  {
   "cell_type": "code",
   "execution_count": 38,
   "metadata": {},
   "outputs": [
    {
     "data": {
      "text/plain": [
       "fast      0.556438\n",
       "change    0.285135\n",
       "break     0.158427\n",
       "Name: pitch_type, dtype: float64"
      ]
     },
     "execution_count": 38,
     "metadata": {},
     "output_type": "execute_result"
    }
   ],
   "source": [
    "df[df['prev_pitch'] == 'change'][\"pitch_type\"].value_counts() / len(df[df['prev_pitch'] == 'change'])"
   ]
  },
  {
   "cell_type": "code",
   "execution_count": 39,
   "metadata": {},
   "outputs": [
    {
     "data": {
      "text/plain": [
       "fast      0.536407\n",
       "break     0.376432\n",
       "change    0.087160\n",
       "Name: pitch_type, dtype: float64"
      ]
     },
     "execution_count": 39,
     "metadata": {},
     "output_type": "execute_result"
    }
   ],
   "source": [
    "df[df['prev_pitch'] == 'break'][\"pitch_type\"].value_counts() / len(df[df['prev_pitch'] == 'break'])"
   ]
  },
  {
   "cell_type": "code",
   "execution_count": 40,
   "metadata": {},
   "outputs": [],
   "source": [
    "from sklearn.preprocessing import LabelEncoder\n",
    "\n",
    "le = LabelEncoder()\n",
    "\n",
    "#label encode stance right or left\n",
    "df[\"stand\"] = le.fit_transform(df[\"stand\"])"
   ]
  },
  {
   "cell_type": "code",
   "execution_count": 41,
   "metadata": {},
   "outputs": [],
   "source": [
    "#one hot encode previous type, ball/strike/or in play\n",
    "ty = pd.get_dummies(df['prev_result'],prefix=\"result\")\n",
    "df = df.drop('prev_result',axis = 1)\n",
    "df = df.join(ty)\n",
    "\n",
    "#one hot encode previous type, ball/strike/or in play\n",
    "ty = pd.get_dummies(df['prev_result2'],prefix=\"result2\")\n",
    "df = df.drop('prev_result2',axis = 1)\n",
    "df = df.join(ty)"
   ]
  },
  {
   "cell_type": "code",
   "execution_count": 42,
   "metadata": {},
   "outputs": [],
   "source": [
    "#one hot encode previous pitch string\n",
    "prevs = pd.get_dummies(df['prev_pitch'],prefix=\"pitch\")\n",
    "df = df.drop('prev_pitch',axis = 1)\n",
    "df = df.join(prevs)\n",
    "\n",
    "#one hot encode previous pitch string\n",
    "prevs = pd.get_dummies(df['prev_pitch2'],prefix=\"pitch2\")\n",
    "df = df.drop('prev_pitch2',axis = 1)\n",
    "df = df.join(prevs)"
   ]
  },
  {
   "cell_type": "code",
   "execution_count": 43,
   "metadata": {},
   "outputs": [],
   "source": [
    "#one hot encode previous pitch string\n",
    "prevs = pd.get_dummies(df['prev_type'],prefix=\"type\")\n",
    "df = df.drop('prev_type',axis = 1)\n",
    "df = df.join(prevs)\n",
    "\n",
    "#one hot encode previous pitch string\n",
    "prevs = pd.get_dummies(df['prev_type2'],prefix=\"type2\")\n",
    "df = df.drop('prev_type2',axis = 1)\n",
    "df = df.join(prevs)"
   ]
  },
  {
   "cell_type": "code",
   "execution_count": 44,
   "metadata": {},
   "outputs": [],
   "source": [
    "#one hot encode previous pitch string\n",
    "prevs = pd.get_dummies(df['prev_zone'],prefix=\"zone\")\n",
    "df = df.drop('prev_zone',axis = 1)\n",
    "df = df.join(prevs)\n",
    "\n",
    "#one hot encode previous pitch string\n",
    "prevs = pd.get_dummies(df['prev_zone2'],prefix=\"zone2\")\n",
    "df = df.drop('prev_zone2',axis = 1)\n",
    "df = df.join(prevs)"
   ]
  },
  {
   "cell_type": "code",
   "execution_count": 45,
   "metadata": {},
   "outputs": [],
   "source": [
    "#one hot encode previous pitch string\n",
    "prevs = pd.get_dummies(df['p_throws'])\n",
    "df = df.drop('p_throws',axis = 1)\n",
    "df = df.join(prevs)"
   ]
  },
  {
   "cell_type": "code",
   "execution_count": 46,
   "metadata": {},
   "outputs": [],
   "source": [
    "#one hot encode previous pitch string\n",
    "prevs = pd.get_dummies(df['last_at_bat'],prefix='last_at_bat')\n",
    "df = df.drop('last_at_bat',axis = 1)\n",
    "df = df.join(prevs)"
   ]
  },
  {
   "cell_type": "code",
   "execution_count": 47,
   "metadata": {},
   "outputs": [],
   "source": [
    "df = df.drop(\"pitch_name\",axis=1)"
   ]
  },
  {
   "cell_type": "code",
   "execution_count": 48,
   "metadata": {},
   "outputs": [],
   "source": [
    "pitches = df['pitch_type']\n",
    "pitches = pd.get_dummies(pitches) #get a one hot encoding for pitches\n",
    "p_enc = pitches.to_numpy()\n"
   ]
  },
  {
   "cell_type": "code",
   "execution_count": 49,
   "metadata": {},
   "outputs": [],
   "source": [
    "pitch_vals = pitches.columns"
   ]
  },
  {
   "cell_type": "code",
   "execution_count": 50,
   "metadata": {},
   "outputs": [],
   "source": [
    "del df['pitch_type'] #don't need pitch type anymore\n",
    "del df['type']\n",
    "del df['release_speed']"
   ]
  },
  {
   "cell_type": "code",
   "execution_count": 51,
   "metadata": {},
   "outputs": [],
   "source": [
    "variables = df.to_numpy()"
   ]
  },
  {
   "cell_type": "code",
   "execution_count": 52,
   "metadata": {},
   "outputs": [],
   "source": [
    "from sklearn.model_selection import train_test_split"
   ]
  },
  {
   "cell_type": "code",
   "execution_count": 53,
   "metadata": {},
   "outputs": [],
   "source": [
    "trainX, testX, trainY, testY = train_test_split(variables, p_enc, test_size=0.3,\n",
    "                                                #stratify=p_enc\n",
    "                                               )"
   ]
  },
  {
   "cell_type": "code",
   "execution_count": 54,
   "metadata": {},
   "outputs": [],
   "source": [
    "from imblearn.under_sampling import RandomUnderSampler"
   ]
  },
  {
   "cell_type": "code",
   "execution_count": 55,
   "metadata": {},
   "outputs": [],
   "source": [
    "from imblearn.over_sampling import SMOTE"
   ]
  },
  {
   "cell_type": "code",
   "execution_count": 56,
   "metadata": {},
   "outputs": [],
   "source": [
    "rus = RandomUnderSampler(random_state=0)"
   ]
  },
  {
   "cell_type": "code",
   "execution_count": 57,
   "metadata": {},
   "outputs": [
    {
     "data": {
      "text/plain": [
       "Index(['break', 'change', 'fast'], dtype='object')"
      ]
     },
     "execution_count": 57,
     "metadata": {},
     "output_type": "execute_result"
    }
   ],
   "source": [
    "pitch_vals"
   ]
  },
  {
   "cell_type": "code",
   "execution_count": 58,
   "metadata": {},
   "outputs": [],
   "source": [
    "smote = SMOTE(k_neighbors=3)\n"
   ]
  },
  {
   "cell_type": "code",
   "execution_count": 60,
   "metadata": {},
   "outputs": [
    {
     "name": "stderr",
     "output_type": "stream",
     "text": [
      "/Users/nchapman/opt/anaconda3/lib/python3.7/site-packages/sklearn/utils/validation.py:70: FutureWarning: Pass classes=[0 1 2] as keyword args. From version 0.25 passing these as positional arguments will result in an error\n",
      "  FutureWarning)\n"
     ]
    }
   ],
   "source": [
    "X_sm, Y_sm = rus.fit_sample(trainX,trainY)"
   ]
  },
  {
   "cell_type": "code",
   "execution_count": 61,
   "metadata": {},
   "outputs": [],
   "source": [
    "from sklearn.preprocessing import StandardScaler\n",
    "sc = StandardScaler()\n",
    "X_sm = sc.fit_transform(X_sm)\n",
    "#trainX = sc.fit_transform(trainX)\n",
    "testX = sc.transform(testX)"
   ]
  },
  {
   "cell_type": "code",
   "execution_count": null,
   "metadata": {},
   "outputs": [],
   "source": []
  },
  {
   "cell_type": "code",
   "execution_count": 191,
   "metadata": {},
   "outputs": [],
   "source": [
    "model = Sequential()\n",
    "from keras.optimizers import SGD\n",
    "model.add(Dense(1024, activation = 'relu', input_dim = 136))\n",
    "#model.add(Dense(units=1024, activation='relu'))\n",
    "#model.add(Dense(units=1024, activation='relu'))\n",
    "model.add(Dense(3, activation = 'softmax'))\n",
    "\n",
    "sgd = SGD(lr=0.01, decay=1e-6, momentum=0.9, nesterov=True)\n",
    "model.compile(loss='categorical_crossentropy',\n",
    "                optimizer=sgd,\n",
    "#               optimizer='adam',\n",
    "              metrics=[tf.keras.metrics.CategoricalAccuracy()])"
   ]
  },
  {
   "cell_type": "code",
   "execution_count": 192,
   "metadata": {
    "scrolled": false
   },
   "outputs": [
    {
     "name": "stdout",
     "output_type": "stream",
     "text": [
      "Epoch 1/30\n",
      "510/510 [==============================] - 6s 12ms/step - loss: 0.9642 - categorical_accuracy: 0.5207 - val_loss: 0.9891 - val_categorical_accuracy: 0.4761\n",
      "Epoch 2/30\n",
      "510/510 [==============================] - 5s 10ms/step - loss: 0.9303 - categorical_accuracy: 0.5470 - val_loss: 0.9611 - val_categorical_accuracy: 0.4895\n",
      "Epoch 3/30\n",
      "510/510 [==============================] - 5s 10ms/step - loss: 0.9169 - categorical_accuracy: 0.5567 - val_loss: 0.9563 - val_categorical_accuracy: 0.4902\n",
      "Epoch 4/30\n",
      "510/510 [==============================] - 5s 11ms/step - loss: 0.9098 - categorical_accuracy: 0.5607 - val_loss: 0.9779 - val_categorical_accuracy: 0.4704\n",
      "Epoch 5/30\n",
      "510/510 [==============================] - 5s 11ms/step - loss: 0.9054 - categorical_accuracy: 0.5650 - val_loss: 0.9292 - val_categorical_accuracy: 0.5044\n",
      "Epoch 6/30\n",
      "510/510 [==============================] - 5s 11ms/step - loss: 0.9014 - categorical_accuracy: 0.5673 - val_loss: 0.9722 - val_categorical_accuracy: 0.4786\n",
      "Epoch 7/30\n",
      "510/510 [==============================] - 6s 11ms/step - loss: 0.8978 - categorical_accuracy: 0.5690 - val_loss: 0.9773 - val_categorical_accuracy: 0.4705\n",
      "Epoch 8/30\n",
      "510/510 [==============================] - 6s 11ms/step - loss: 0.8955 - categorical_accuracy: 0.5705 - val_loss: 0.9601 - val_categorical_accuracy: 0.4847\n",
      "Epoch 9/30\n",
      "510/510 [==============================] - 6s 11ms/step - loss: 0.8931 - categorical_accuracy: 0.5731 - val_loss: 0.9780 - val_categorical_accuracy: 0.4737\n",
      "Epoch 10/30\n",
      "510/510 [==============================] - 6s 11ms/step - loss: 0.8907 - categorical_accuracy: 0.5743 - val_loss: 0.9537 - val_categorical_accuracy: 0.4916\n",
      "Epoch 11/30\n",
      "510/510 [==============================] - 6s 12ms/step - loss: 0.8887 - categorical_accuracy: 0.5754 - val_loss: 0.9512 - val_categorical_accuracy: 0.4926\n",
      "Epoch 12/30\n",
      "510/510 [==============================] - 6s 13ms/step - loss: 0.8860 - categorical_accuracy: 0.5772 - val_loss: 0.9613 - val_categorical_accuracy: 0.4894\n",
      "Epoch 13/30\n",
      "510/510 [==============================] - 6s 13ms/step - loss: 0.8842 - categorical_accuracy: 0.5785 - val_loss: 0.9681 - val_categorical_accuracy: 0.4822\n",
      "Epoch 14/30\n",
      "510/510 [==============================] - 6s 12ms/step - loss: 0.8824 - categorical_accuracy: 0.5800 - val_loss: 0.9731 - val_categorical_accuracy: 0.4819\n",
      "Epoch 15/30\n",
      "510/510 [==============================] - 6s 12ms/step - loss: 0.8800 - categorical_accuracy: 0.5811 - val_loss: 0.9893 - val_categorical_accuracy: 0.4722\n",
      "Epoch 16/30\n",
      "510/510 [==============================] - 6s 12ms/step - loss: 0.8791 - categorical_accuracy: 0.5819 - val_loss: 0.9820 - val_categorical_accuracy: 0.4738\n",
      "Epoch 17/30\n",
      "510/510 [==============================] - 6s 12ms/step - loss: 0.8774 - categorical_accuracy: 0.5828 - val_loss: 0.9801 - val_categorical_accuracy: 0.4776\n",
      "Epoch 18/30\n",
      "510/510 [==============================] - 6s 12ms/step - loss: 0.8756 - categorical_accuracy: 0.5849 - val_loss: 0.9885 - val_categorical_accuracy: 0.4720\n",
      "Epoch 19/30\n",
      "510/510 [==============================] - 6s 12ms/step - loss: 0.8739 - categorical_accuracy: 0.5854 - val_loss: 0.9595 - val_categorical_accuracy: 0.4937\n",
      "Epoch 20/30\n",
      "510/510 [==============================] - 6s 13ms/step - loss: 0.8737 - categorical_accuracy: 0.5868 - val_loss: 0.9860 - val_categorical_accuracy: 0.4771\n",
      "Epoch 21/30\n",
      "510/510 [==============================] - 6s 12ms/step - loss: 0.8711 - categorical_accuracy: 0.5873 - val_loss: 0.9576 - val_categorical_accuracy: 0.4936\n",
      "Epoch 22/30\n",
      "510/510 [==============================] - 6s 12ms/step - loss: 0.8698 - categorical_accuracy: 0.5887 - val_loss: 0.9437 - val_categorical_accuracy: 0.5040\n",
      "Epoch 23/30\n",
      "510/510 [==============================] - 6s 12ms/step - loss: 0.8686 - categorical_accuracy: 0.5904 - val_loss: 0.9881 - val_categorical_accuracy: 0.4799\n",
      "Epoch 24/30\n",
      "510/510 [==============================] - 6s 12ms/step - loss: 0.8670 - categorical_accuracy: 0.5908 - val_loss: 0.9842 - val_categorical_accuracy: 0.4758\n",
      "Epoch 25/30\n",
      "510/510 [==============================] - 6s 12ms/step - loss: 0.8659 - categorical_accuracy: 0.5919 - val_loss: 0.9609 - val_categorical_accuracy: 0.4914\n",
      "Epoch 26/30\n",
      "510/510 [==============================] - 6s 12ms/step - loss: 0.8645 - categorical_accuracy: 0.5933 - val_loss: 0.9784 - val_categorical_accuracy: 0.4857\n",
      "Epoch 27/30\n",
      "510/510 [==============================] - 6s 12ms/step - loss: 0.8641 - categorical_accuracy: 0.5942 - val_loss: 1.0092 - val_categorical_accuracy: 0.4741\n",
      "Epoch 28/30\n",
      "510/510 [==============================] - 6s 12ms/step - loss: 0.8608 - categorical_accuracy: 0.5952 - val_loss: 0.9939 - val_categorical_accuracy: 0.4714\n",
      "Epoch 29/30\n",
      "510/510 [==============================] - 6s 13ms/step - loss: 0.8599 - categorical_accuracy: 0.5963 - val_loss: 0.9777 - val_categorical_accuracy: 0.4874\n",
      "Epoch 30/30\n",
      "510/510 [==============================] - 6s 12ms/step - loss: 0.8584 - categorical_accuracy: 0.5968 - val_loss: 0.9417 - val_categorical_accuracy: 0.5096\n"
     ]
    },
    {
     "data": {
      "text/plain": [
       "<tensorflow.python.keras.callbacks.History at 0x7fc0005b6150>"
      ]
     },
     "execution_count": 192,
     "metadata": {},
     "output_type": "execute_result"
    }
   ],
   "source": [
    "model.fit(X_sm, Y_sm,validation_data=(testX,testY), epochs = 30,\n",
    "            batch_size = 564)"
   ]
  },
  {
   "cell_type": "code",
   "execution_count": 193,
   "metadata": {},
   "outputs": [
    {
     "name": "stdout",
     "output_type": "stream",
     "text": [
      "3705/3705 [==============================] - 5s 1ms/step - loss: 0.9417 - categorical_accuracy: 0.5096\n",
      "Test Accuracy: 50.96%\n"
     ]
    }
   ],
   "source": [
    "score = model.evaluate(testX, testY, batch_size = 100)\n",
    "print(\"Test Accuracy: \"+\"{:.2%}\".format(score[1]))"
   ]
  },
  {
   "cell_type": "code",
   "execution_count": 194,
   "metadata": {},
   "outputs": [],
   "source": [
    "y_pred = model.predict(testX)"
   ]
  },
  {
   "cell_type": "code",
   "execution_count": 171,
   "metadata": {},
   "outputs": [
    {
     "data": {
      "text/plain": [
       "['break', 'change', 'fast']"
      ]
     },
     "execution_count": 171,
     "metadata": {},
     "output_type": "execute_result"
    }
   ],
   "source": [
    "['break', 'change', 'fast']"
   ]
  },
  {
   "cell_type": "code",
   "execution_count": 195,
   "metadata": {},
   "outputs": [],
   "source": [
    "Y_test = np.argmax(testY, axis=1) # Convert one-hot to index\n",
    "y_pred = model.predict_classes(testX)"
   ]
  },
  {
   "cell_type": "code",
   "execution_count": 202,
   "metadata": {},
   "outputs": [
    {
     "data": {
      "text/plain": [
       "0.5096196928392129"
      ]
     },
     "execution_count": 202,
     "metadata": {},
     "output_type": "execute_result"
    }
   ],
   "source": [
    "accuracy_score(Y_test, y_pred)"
   ]
  },
  {
   "cell_type": "code",
   "execution_count": 197,
   "metadata": {},
   "outputs": [],
   "source": [
    "from sklearn.metrics import confusion_matrix"
   ]
  },
  {
   "cell_type": "code",
   "execution_count": 198,
   "metadata": {},
   "outputs": [
    {
     "data": {
      "text/plain": [
       "array([[ 49487,  21760,  32255],\n",
       "       [  5278,  27702,   8074],\n",
       "       [ 56672,  57642, 111620]])"
      ]
     },
     "execution_count": 198,
     "metadata": {},
     "output_type": "execute_result"
    }
   ],
   "source": [
    "confusion_matrix(Y_test, y_pred)"
   ]
  },
  {
   "cell_type": "code",
   "execution_count": 199,
   "metadata": {},
   "outputs": [
    {
     "data": {
      "text/plain": [
       "0.5250991929606738"
      ]
     },
     "execution_count": 199,
     "metadata": {},
     "output_type": "execute_result"
    }
   ],
   "source": [
    "(68254 + 35323 + 90967) / len(Y_test)"
   ]
  },
  {
   "cell_type": "code",
   "execution_count": 200,
   "metadata": {},
   "outputs": [],
   "source": [
    "cnf_matrix = confusion_matrix(Y_test, y_pred)"
   ]
  },
  {
   "cell_type": "code",
   "execution_count": 201,
   "metadata": {},
   "outputs": [
    {
     "name": "stdout",
     "output_type": "stream",
     "text": [
      "Confusion matrix, without normalization\n",
      "[[ 49487  21760  32255]\n",
      " [  5278  27702   8074]\n",
      " [ 56672  57642 111620]]\n"
     ]
    },
    {
     "data": {
      "image/png": "[encoded data removed]",
      "text/plain": [
       "<Figure size 1440x1440 with 2 Axes>"
      ]
     },
     "metadata": {
      "needs_background": "light"
     },
     "output_type": "display_data"
    }
   ],
   "source": [
    "np.set_printoptions(precision=2)\n",
    "\n",
    "# Plot non-normalized confusion matrix\n",
    "plt.figure(figsize=(20,20))\n",
    "plot_confusion_matrix(cnf_matrix, classes=pitch_vals,\n",
    "                      title='Confusion matrix, without normalization')"
   ]
  },
  {
   "cell_type": "code",
   "execution_count": null,
   "metadata": {},
   "outputs": [],
   "source": []
  },
  {
   "cell_type": "code",
   "execution_count": 179,
   "metadata": {},
   "outputs": [],
   "source": [
    "\n",
    "def plot_confusion_matrix(cm, classes,\n",
    "                          normalize=False,\n",
    "                          title='Confusion matrix',\n",
    "                          cmap=plt.cm.Blues):\n",
    "    \"\"\"\n",
    "    This function prints and plots the confusion matrix.\n",
    "    Normalization can be applied by setting `normalize=True`.\n",
    "    \"\"\"\n",
    "    import itertools\n",
    "    import matplotlib.pyplot as plt\n",
    "    if normalize:\n",
    "        cm = cm.astype('float') / cm.sum(axis=1)[:, np.newaxis]\n",
    "        print(\"Normalized confusion matrix\")\n",
    "    else:\n",
    "        print('Confusion matrix, without normalization')\n",
    "\n",
    "    print(cm)\n",
    "\n",
    "    plt.imshow(cm, interpolation='nearest', cmap=cmap)\n",
    "    plt.title(title)\n",
    "    plt.colorbar()\n",
    "    tick_marks = np.arange(len(classes))\n",
    "    plt.xticks(tick_marks, classes, rotation=45)\n",
    "    plt.yticks(tick_marks, classes)\n",
    "\n",
    "    fmt = '.2f' if normalize else 'd'\n",
    "    thresh = cm.max() / 2.\n",
    "    for i, j in itertools.product(range(cm.shape[0]), range(cm.shape[1])):\n",
    "        plt.text(j, i, format(cm[i, j], fmt),\n",
    "                 horizontalalignment=\"center\",\n",
    "                 color=\"white\" if cm[i, j] > thresh else \"black\")\n",
    "\n",
    "    plt.ylabel('True label')\n",
    "    plt.xlabel('Predicted label')"
   ]
  },
  {
   "cell_type": "code",
   "execution_count": null,
   "metadata": {},
   "outputs": [],
   "source": []
  }
 ],
 "metadata": {
  "kernelspec": {
   "display_name": "Python 3",
   "language": "python",
   "name": "python3"
  },
  "language_info": {
   "codemirror_mode": {
    "name": "ipython",
    "version": 3
   },
   "file_extension": ".py",
   "mimetype": "text/x-python",
   "name": "python",
   "nbconvert_exporter": "python",
   "pygments_lexer": "ipython3",
   "version": "3.7.4"
  }
 },
 "nbformat": 4,
 "nbformat_minor": 4
}
